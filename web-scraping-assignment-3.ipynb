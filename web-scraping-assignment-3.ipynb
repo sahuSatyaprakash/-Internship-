{
 "cells": [
  {
   "cell_type": "code",
   "execution_count": 1,
   "id": "6aaad432",
   "metadata": {},
   "outputs": [],
   "source": [
    "from bs4 import BeautifulSoup\n",
    "import requests"
   ]
  },
  {
   "cell_type": "code",
   "execution_count": 2,
   "id": "5e263422",
   "metadata": {},
   "outputs": [
    {
     "name": "stdout",
     "output_type": "stream",
     "text": [
      "Defaulting to user installation because normal site-packages is not writeable\n",
      "Requirement already satisfied: bs4 in c:\\users\\sattu\\appdata\\roaming\\python\\python39\\site-packages (0.0.1)\n",
      "Requirement already satisfied: beautifulsoup4 in c:\\programdata\\anaconda3\\lib\\site-packages (from bs4) (4.11.1)\n",
      "Requirement already satisfied: soupsieve>1.2 in c:\\programdata\\anaconda3\\lib\\site-packages (from beautifulsoup4->bs4) (2.3.1)\n",
      "Defaulting to user installation because normal site-packages is not writeable\n",
      "Requirement already satisfied: requests in c:\\programdata\\anaconda3\\lib\\site-packages (2.28.1)\n",
      "Requirement already satisfied: idna<4,>=2.5 in c:\\programdata\\anaconda3\\lib\\site-packages (from requests) (3.3)\n",
      "Requirement already satisfied: certifi>=2017.4.17 in c:\\programdata\\anaconda3\\lib\\site-packages (from requests) (2022.9.14)\n",
      "Requirement already satisfied: urllib3<1.27,>=1.21.1 in c:\\programdata\\anaconda3\\lib\\site-packages (from requests) (1.26.11)\n",
      "Requirement already satisfied: charset-normalizer<3,>=2 in c:\\programdata\\anaconda3\\lib\\site-packages (from requests) (2.0.4)\n"
     ]
    }
   ],
   "source": [
    "!pip install bs4\n",
    "!pip install requests"
   ]
  },
  {
   "cell_type": "code",
   "execution_count": 3,
   "id": "3a7e7c6c",
   "metadata": {},
   "outputs": [],
   "source": [
    "import selenium\n",
    "from selenium import webdriver\n",
    "import pandas as pd\n",
    "from selenium.webdriver.common.by import By\n",
    "import warnings\n",
    "warnings.filterwarnings(\"ignore\")\n",
    "import time"
   ]
  },
  {
   "cell_type": "markdown",
   "id": "bc6777f4",
   "metadata": {},
   "source": [
    "# 4. Write a python program to search for a smartphone(e.g.: Oneplus Nord, pixel 4A, etc.) on www.flipkart.com and scrape following details for all the search results displayed on 1st page."
   ]
  },
  {
   "cell_type": "code",
   "execution_count": 101,
   "id": "aa61682a",
   "metadata": {},
   "outputs": [],
   "source": [
    "driver = webdriver.Chrome()"
   ]
  },
  {
   "cell_type": "code",
   "execution_count": 102,
   "id": "97932d2e",
   "metadata": {},
   "outputs": [],
   "source": [
    "url4=\"https://www.flipkart.com/search?q=smartphone&otracker=search&otracker1=search&marketplace=FLIPKART&as-show=on&as=off\"\n",
    "driver.get(url4)"
   ]
  },
  {
   "cell_type": "code",
   "execution_count": 103,
   "id": "22bc5743",
   "metadata": {},
   "outputs": [],
   "source": [
    "Brand_Name=[]\n",
    "Colour=[]\n",
    "Storage_RAM_ROM=[]\n",
    "P_F_Camera=[]\n",
    "Display_size_Resolution=[]\n",
    "ProcessorAndCores=[]\n",
    "Battery=[]\n",
    "Price=[]\n",
    "Product_URL=[]"
   ]
  },
  {
   "cell_type": "code",
   "execution_count": 104,
   "id": "332afe4a",
   "metadata": {},
   "outputs": [
    {
     "name": "stdout",
     "output_type": "stream",
     "text": [
      "24 ['Infinix HOT 20 Play (Aurora Green, 64 GB)', 'POCO M6 Pro 5G (Power Black, 128 GB)', 'Infinix HOT 20 Play (Racing Black, 64 GB)', 'POCO C51 (Power Black, 64 GB)', 'REDMI 12 (Moonstone Silver, 128 GB)', 'POCO C51 (Royal Blue, 64 GB)', 'POCO C50 (Royal Blue, 32 GB)', 'POCO C55 (Cool Blue, 128 GB)', 'Infinix HOT 20 Play (Luna Blue, 64 GB)', 'realme 11x 5G (Midnight Black, 128 GB)', 'realme 11x 5G (Purple Dawn, 128 GB)', 'realme 11x 5G (Purple Dawn, 128 GB)', 'realme 11x 5G (Midnight Black, 128 GB)', 'POCO C55 (Power Black, 128 GB)', 'Infinix HOT 20 Play (Fantasy Purple, 64 GB)', 'POCO M6 Pro 5G (Power Black, 64 GB)', 'POCO C55 (Forest Green, 128 GB)', 'POCO C50 (Country Green, 32 GB)', 'MOTOROLA e13 (Aurora Green, 64 GB)', 'POCO M6 Pro 5G (Forest Green, 64 GB)', 'Infinix SMART 7 (Emerald Green, 64 GB)', 'Infinix SMART 7 (Azure Blue, 64 GB)', 'REDMI 12 (Jade Black, 128 GB)', 'Infinix SMART 7 (Emerald Green, 128 GB)']\n"
     ]
    }
   ],
   "source": [
    "BName=driver.find_elements(By.XPATH,'//div[@class=\"_4rR01T\"]')\n",
    "for i in BName:\n",
    "    if i.text is None :\n",
    "        Brand_Name.append(\"--\") \n",
    "    else:\n",
    "        Brand_Name.append(i.text)\n",
    "print(len(Brand_Name),Brand_Name)"
   ]
  },
  {
   "cell_type": "code",
   "execution_count": 105,
   "id": "ac1309a3",
   "metadata": {},
   "outputs": [
    {
     "name": "stdout",
     "output_type": "stream",
     "text": [
      "24 ['4 GB RAM | 64 GB ROM | Expandable Upto 256 GB', '6 GB RAM | 128 GB ROM | Expandable Upto 1 TB', '4 GB RAM | 64 GB ROM | Expandable Upto 256 GB', '4 GB RAM | 64 GB ROM | Expandable Upto 1 TB', '4 GB RAM | 128 GB ROM | Expandable Upto 1 TB', '4 GB RAM | 64 GB ROM | Expandable Upto 1 TB', '2 GB RAM | 32 GB ROM | Expandable Upto 512 GB', '6 GB RAM | 128 GB ROM | Expandable Upto 1 TB', '4 GB RAM | 64 GB ROM | Expandable Upto 256 GB', '8 GB RAM | 128 GB ROM | Expandable Upto 2 TB', '8 GB RAM | 128 GB ROM | Expandable Upto 2 TB', '6 GB RAM | 128 GB ROM | Expandable Upto 2 TB', '6 GB RAM | 128 GB ROM | Expandable Upto 2 TB', '6 GB RAM | 128 GB ROM | Expandable Upto 1 TB', '4 GB RAM | 64 GB ROM | Expandable Upto 256 GB', '4 GB RAM | 64 GB ROM | Expandable Upto 1 TB', '6 GB RAM | 128 GB ROM | Expandable Upto 1 TB', '2 GB RAM | 32 GB ROM | Expandable Upto 512 GB', '4 GB RAM | 64 GB ROM | Expandable Upto 1 TB', '4 GB RAM | 64 GB ROM | Expandable Upto 1 TB', '4 GB RAM | 64 GB ROM | Expandable Upto 2 TB', '4 GB RAM | 64 GB ROM | Expandable Upto 2 TB', '4 GB RAM | 128 GB ROM | Expandable Upto 1 TB', '4 GB RAM | 128 GB ROM | Expandable Upto 512 GB']\n"
     ]
    }
   ],
   "source": [
    "ram=driver.find_elements(By.XPATH,\"//ul[@class='_1xgFaf']//li[1]\")\n",
    "for i in ram:\n",
    "    if i.text is None :\n",
    "        Storage_RAM_ROM.append(\"--\") \n",
    "    else:\n",
    "        Storage_RAM_ROM.append(i.text)\n",
    "print(len(Storage_RAM_ROM),Storage_RAM_ROM)"
   ]
  },
  {
   "cell_type": "code",
   "execution_count": 106,
   "id": "3e0af437",
   "metadata": {},
   "outputs": [
    {
     "name": "stdout",
     "output_type": "stream",
     "text": [
      "24 ['13Mp + AI Lens | 8MP Front Camera', '50MP + 2MP | 8MP Front Camera', '13Mp + AI Lens | 8MP Front Camera', '8MP Dual Rear Camera | 5MP Front Camera', '50MP + 8MP + 2MP | 8MP Front Camera', '8MP Dual Rear Camera | 5MP Front Camera', '8MP Dual Camera | 5MP Front Camera', '50MP Dual Rear Camera | 5MP Front Camera', '13Mp + AI Lens | 8MP Front Camera', '64MP + 2MP | 8MP Front Camera', '64MP + 2MP | 8MP Front Camera', '64MP + 2MP | 8MP Front Camera', '64MP + 2MP | 8MP Front Camera', '50MP Dual Rear Camera | 5MP Front Camera', '13Mp + AI Lens | 8MP Front Camera', '50MP + 2MP | 8MP Front Camera', '50MP Dual Rear Camera | 5MP Front Camera', '8MP Dual Camera | 5MP Front Camera', '13MP Rear Camera | 5MP Front Camera', '50MP + 2MP | 8MP Front Camera', '13MP + AI Lens | 5MP Front Camera', '13MP + AI Lens | 5MP Front Camera', '50MP + 8MP + 2MP | 8MP Front Camera', '13MP + AI Lens | 5MP Front Camera']\n"
     ]
    }
   ],
   "source": [
    "PC=driver.find_elements(By.XPATH,\"//ul[@class='_1xgFaf']//li[3]\")\n",
    "for i in PC:\n",
    "    if i.text is None :\n",
    "        P_F_Camera.append(\"--\") \n",
    "    else:\n",
    "        P_F_Camera.append(i.text)\n",
    "print(len(P_F_Camera),P_F_Camera)"
   ]
  },
  {
   "cell_type": "code",
   "execution_count": 107,
   "id": "08c7e890",
   "metadata": {},
   "outputs": [
    {
     "name": "stdout",
     "output_type": "stream",
     "text": [
      "24 ['17.32 cm (6.82 inch) HD+ Display', '17.25 cm (6.79 inch) Full HD+ Display', '17.32 cm (6.82 inch) HD+ Display', '16.56 cm (6.52 inch) HD+ Display', '17.25 cm (6.79 inch) Full HD+ Display', '16.56 cm (6.52 inch) HD+ Display', '16.56 cm (6.52 inch) HD+ Display', '17.04 cm (6.71 inch) HD+ Display', '17.32 cm (6.82 inch) HD+ Display', '17.07 cm (6.72 inch) Full HD+ Display', '17.07 cm (6.72 inch) Full HD+ Display', '17.07 cm (6.72 inch) Full HD+ Display', '17.07 cm (6.72 inch) Full HD+ Display', '17.04 cm (6.71 inch) HD+ Display', '17.32 cm (6.82 inch) HD+ Display', '17.25 cm (6.79 inch) Full HD+ Display', '17.04 cm (6.71 inch) HD+ Display', '16.56 cm (6.52 inch) HD+ Display', '16.51 cm (6.5 inch) HD+ Display', '17.25 cm (6.79 inch) Full HD+ Display', '16.76 cm (6.6 inch) HD+ Display', '16.76 cm (6.6 inch) HD+ Display', '17.25 cm (6.79 inch) Full HD+ Display', '16.76 cm (6.6 inch) HD+ Display']\n"
     ]
    }
   ],
   "source": [
    "DS=driver.find_elements(By.XPATH,\"//ul[@class='_1xgFaf']//li[2]\")\n",
    "for i in DS:\n",
    "    if i.text is None :\n",
    "        Display_size_Resolution.append(\"--\") \n",
    "    else:\n",
    "        Display_size_Resolution.append(i.text)\n",
    "print(len(Display_size_Resolution),Display_size_Resolution)"
   ]
  },
  {
   "cell_type": "code",
   "execution_count": 108,
   "id": "51d65964",
   "metadata": {},
   "outputs": [
    {
     "name": "stdout",
     "output_type": "stream",
     "text": [
      "24 ['MediaTek G37 Processor', 'Snapdragon 4 Gen 2 Processor', 'MediaTek G37 Processor', 'Helio G36 Processor', 'Helio G88 Processor', 'Helio G36 Processor', 'Mediatek Helio A22 Processor, Upto 2.0 GHz Processor', 'Mediatek Helio G85 Processor', 'MediaTek G37 Processor', 'Dimensity 6100+ Processor', 'Dimensity 6100+ Processor', 'Dimensity 6100+ Processor', 'Dimensity 6100+ Processor', 'Mediatek Helio G85 Processor', 'MediaTek G37 Processor', 'Snapdragon 4 Gen 2 Processor', 'Mediatek Helio G85 Processor', 'Mediatek Helio A22 Processor, Upto 2.0 GHz Processor', 'Unisoc T606 Processor', 'Snapdragon 4 Gen 2 Processor', 'Unisoc Spreadtrum SC9863A1 Processor', 'Unisoc Spreadtrum SC9863A1 Processor', 'Helio G88 Processor', 'Unisoc Spreadtrum SC9863A1 Processor']\n"
     ]
    }
   ],
   "source": [
    "P=driver.find_elements(By.XPATH,\"//ul[@class='_1xgFaf']//li[5]\")\n",
    "for i in P:\n",
    "    if i.text is None :\n",
    "        ProcessorAndCores.append(\"--\") \n",
    "    else:\n",
    "        ProcessorAndCores.append(i.text)\n",
    "print(len(ProcessorAndCores),ProcessorAndCores)"
   ]
  },
  {
   "cell_type": "code",
   "execution_count": 109,
   "id": "fe917e9a",
   "metadata": {},
   "outputs": [
    {
     "name": "stdout",
     "output_type": "stream",
     "text": [
      "24 ['6000 mAh Li-ion Polymer Battery', '5000 mAh Battery', '6000 mAh Li-ion Polymer Battery', '5000 mAh Battery', '5000 mAh Battery', '5000 mAh Battery', '5000 mAh Lithium Polymer Battery', '5000 mAh Battery', '6000 mAh Li-ion Polymer Battery', '5000 mAh Battery', '5000 mAh Battery', '5000 mAh Battery', '5000 mAh Battery', '5000 mAh Battery', '6000 mAh Li-ion Polymer Battery', '5000 mAh Battery', '5000 mAh Battery', '5000 mAh Lithium Polymer Battery', '5000 mAh Battery', '5000 mAh Battery', '6000 mAh Battery', '6000 mAh Battery', '5000 mAh Battery', '6000 mAh Battery']\n"
     ]
    }
   ],
   "source": [
    "B=driver.find_elements(By.XPATH,\"//ul[@class='_1xgFaf']//li[4]\")\n",
    "for i in B:\n",
    "    if i.text is None :\n",
    "        Battery.append(\"--\") \n",
    "    else:\n",
    "        Battery.append(i.text)\n",
    "print(len(Battery),Battery)"
   ]
  },
  {
   "cell_type": "code",
   "execution_count": 110,
   "id": "479bb1a9",
   "metadata": {},
   "outputs": [
    {
     "name": "stdout",
     "output_type": "stream",
     "text": [
      "24 ['₹7,999', '₹12,999', '₹7,999', '₹6,499', '₹9,999', '₹6,499', '₹5,499', '₹8,499', '₹7,999', '₹15,999', '₹15,999', '₹14,999', '₹14,999', '₹8,499', '₹7,999', '₹10,999', '₹8,499', '₹5,499', '₹7,299', '₹10,999', '₹6,999', '₹6,999', '₹9,999', '₹7,599']\n"
     ]
    }
   ],
   "source": [
    "price=driver.find_elements(By.XPATH,\"//div[@class='_30jeq3 _1_WHN1']\")\n",
    "for i in price:\n",
    "    if i.text is None :\n",
    "        Price.append(\"--\") \n",
    "    else:\n",
    "        Price.append(i.text)\n",
    "print(len(Price),Price)"
   ]
  },
  {
   "cell_type": "code",
   "execution_count": 111,
   "id": "0b8944b1",
   "metadata": {},
   "outputs": [
    {
     "data": {
      "text/html": [
       "<div>\n",
       "<style scoped>\n",
       "    .dataframe tbody tr th:only-of-type {\n",
       "        vertical-align: middle;\n",
       "    }\n",
       "\n",
       "    .dataframe tbody tr th {\n",
       "        vertical-align: top;\n",
       "    }\n",
       "\n",
       "    .dataframe thead th {\n",
       "        text-align: right;\n",
       "    }\n",
       "</style>\n",
       "<table border=\"1\" class=\"dataframe\">\n",
       "  <thead>\n",
       "    <tr style=\"text-align: right;\">\n",
       "      <th></th>\n",
       "      <th>Brand_Name</th>\n",
       "      <th>Storage_RAM_ROM</th>\n",
       "      <th>Amount P_F_Camera</th>\n",
       "      <th>Display_size_Resolution</th>\n",
       "      <th>ProcessorAndCores</th>\n",
       "      <th>Battery</th>\n",
       "      <th>Price</th>\n",
       "    </tr>\n",
       "  </thead>\n",
       "  <tbody>\n",
       "    <tr>\n",
       "      <th>0</th>\n",
       "      <td>Infinix HOT 20 Play (Aurora Green, 64 GB)</td>\n",
       "      <td>4 GB RAM | 64 GB ROM | Expandable Upto 256 GB</td>\n",
       "      <td>13Mp + AI Lens | 8MP Front Camera</td>\n",
       "      <td>17.32 cm (6.82 inch) HD+ Display</td>\n",
       "      <td>MediaTek G37 Processor</td>\n",
       "      <td>6000 mAh Li-ion Polymer Battery</td>\n",
       "      <td>₹7,999</td>\n",
       "    </tr>\n",
       "    <tr>\n",
       "      <th>1</th>\n",
       "      <td>POCO M6 Pro 5G (Power Black, 128 GB)</td>\n",
       "      <td>6 GB RAM | 128 GB ROM | Expandable Upto 1 TB</td>\n",
       "      <td>50MP + 2MP | 8MP Front Camera</td>\n",
       "      <td>17.25 cm (6.79 inch) Full HD+ Display</td>\n",
       "      <td>Snapdragon 4 Gen 2 Processor</td>\n",
       "      <td>5000 mAh Battery</td>\n",
       "      <td>₹12,999</td>\n",
       "    </tr>\n",
       "    <tr>\n",
       "      <th>2</th>\n",
       "      <td>Infinix HOT 20 Play (Racing Black, 64 GB)</td>\n",
       "      <td>4 GB RAM | 64 GB ROM | Expandable Upto 256 GB</td>\n",
       "      <td>13Mp + AI Lens | 8MP Front Camera</td>\n",
       "      <td>17.32 cm (6.82 inch) HD+ Display</td>\n",
       "      <td>MediaTek G37 Processor</td>\n",
       "      <td>6000 mAh Li-ion Polymer Battery</td>\n",
       "      <td>₹7,999</td>\n",
       "    </tr>\n",
       "    <tr>\n",
       "      <th>3</th>\n",
       "      <td>POCO C51 (Power Black, 64 GB)</td>\n",
       "      <td>4 GB RAM | 64 GB ROM | Expandable Upto 1 TB</td>\n",
       "      <td>8MP Dual Rear Camera | 5MP Front Camera</td>\n",
       "      <td>16.56 cm (6.52 inch) HD+ Display</td>\n",
       "      <td>Helio G36 Processor</td>\n",
       "      <td>5000 mAh Battery</td>\n",
       "      <td>₹6,499</td>\n",
       "    </tr>\n",
       "    <tr>\n",
       "      <th>4</th>\n",
       "      <td>REDMI 12 (Moonstone Silver, 128 GB)</td>\n",
       "      <td>4 GB RAM | 128 GB ROM | Expandable Upto 1 TB</td>\n",
       "      <td>50MP + 8MP + 2MP | 8MP Front Camera</td>\n",
       "      <td>17.25 cm (6.79 inch) Full HD+ Display</td>\n",
       "      <td>Helio G88 Processor</td>\n",
       "      <td>5000 mAh Battery</td>\n",
       "      <td>₹9,999</td>\n",
       "    </tr>\n",
       "    <tr>\n",
       "      <th>5</th>\n",
       "      <td>POCO C51 (Royal Blue, 64 GB)</td>\n",
       "      <td>4 GB RAM | 64 GB ROM | Expandable Upto 1 TB</td>\n",
       "      <td>8MP Dual Rear Camera | 5MP Front Camera</td>\n",
       "      <td>16.56 cm (6.52 inch) HD+ Display</td>\n",
       "      <td>Helio G36 Processor</td>\n",
       "      <td>5000 mAh Battery</td>\n",
       "      <td>₹6,499</td>\n",
       "    </tr>\n",
       "    <tr>\n",
       "      <th>6</th>\n",
       "      <td>POCO C50 (Royal Blue, 32 GB)</td>\n",
       "      <td>2 GB RAM | 32 GB ROM | Expandable Upto 512 GB</td>\n",
       "      <td>8MP Dual Camera | 5MP Front Camera</td>\n",
       "      <td>16.56 cm (6.52 inch) HD+ Display</td>\n",
       "      <td>Mediatek Helio A22 Processor, Upto 2.0 GHz Pro...</td>\n",
       "      <td>5000 mAh Lithium Polymer Battery</td>\n",
       "      <td>₹5,499</td>\n",
       "    </tr>\n",
       "    <tr>\n",
       "      <th>7</th>\n",
       "      <td>POCO C55 (Cool Blue, 128 GB)</td>\n",
       "      <td>6 GB RAM | 128 GB ROM | Expandable Upto 1 TB</td>\n",
       "      <td>50MP Dual Rear Camera | 5MP Front Camera</td>\n",
       "      <td>17.04 cm (6.71 inch) HD+ Display</td>\n",
       "      <td>Mediatek Helio G85 Processor</td>\n",
       "      <td>5000 mAh Battery</td>\n",
       "      <td>₹8,499</td>\n",
       "    </tr>\n",
       "    <tr>\n",
       "      <th>8</th>\n",
       "      <td>Infinix HOT 20 Play (Luna Blue, 64 GB)</td>\n",
       "      <td>4 GB RAM | 64 GB ROM | Expandable Upto 256 GB</td>\n",
       "      <td>13Mp + AI Lens | 8MP Front Camera</td>\n",
       "      <td>17.32 cm (6.82 inch) HD+ Display</td>\n",
       "      <td>MediaTek G37 Processor</td>\n",
       "      <td>6000 mAh Li-ion Polymer Battery</td>\n",
       "      <td>₹7,999</td>\n",
       "    </tr>\n",
       "    <tr>\n",
       "      <th>9</th>\n",
       "      <td>realme 11x 5G (Midnight Black, 128 GB)</td>\n",
       "      <td>8 GB RAM | 128 GB ROM | Expandable Upto 2 TB</td>\n",
       "      <td>64MP + 2MP | 8MP Front Camera</td>\n",
       "      <td>17.07 cm (6.72 inch) Full HD+ Display</td>\n",
       "      <td>Dimensity 6100+ Processor</td>\n",
       "      <td>5000 mAh Battery</td>\n",
       "      <td>₹15,999</td>\n",
       "    </tr>\n",
       "    <tr>\n",
       "      <th>10</th>\n",
       "      <td>realme 11x 5G (Purple Dawn, 128 GB)</td>\n",
       "      <td>8 GB RAM | 128 GB ROM | Expandable Upto 2 TB</td>\n",
       "      <td>64MP + 2MP | 8MP Front Camera</td>\n",
       "      <td>17.07 cm (6.72 inch) Full HD+ Display</td>\n",
       "      <td>Dimensity 6100+ Processor</td>\n",
       "      <td>5000 mAh Battery</td>\n",
       "      <td>₹15,999</td>\n",
       "    </tr>\n",
       "    <tr>\n",
       "      <th>11</th>\n",
       "      <td>realme 11x 5G (Purple Dawn, 128 GB)</td>\n",
       "      <td>6 GB RAM | 128 GB ROM | Expandable Upto 2 TB</td>\n",
       "      <td>64MP + 2MP | 8MP Front Camera</td>\n",
       "      <td>17.07 cm (6.72 inch) Full HD+ Display</td>\n",
       "      <td>Dimensity 6100+ Processor</td>\n",
       "      <td>5000 mAh Battery</td>\n",
       "      <td>₹14,999</td>\n",
       "    </tr>\n",
       "    <tr>\n",
       "      <th>12</th>\n",
       "      <td>realme 11x 5G (Midnight Black, 128 GB)</td>\n",
       "      <td>6 GB RAM | 128 GB ROM | Expandable Upto 2 TB</td>\n",
       "      <td>64MP + 2MP | 8MP Front Camera</td>\n",
       "      <td>17.07 cm (6.72 inch) Full HD+ Display</td>\n",
       "      <td>Dimensity 6100+ Processor</td>\n",
       "      <td>5000 mAh Battery</td>\n",
       "      <td>₹14,999</td>\n",
       "    </tr>\n",
       "    <tr>\n",
       "      <th>13</th>\n",
       "      <td>POCO C55 (Power Black, 128 GB)</td>\n",
       "      <td>6 GB RAM | 128 GB ROM | Expandable Upto 1 TB</td>\n",
       "      <td>50MP Dual Rear Camera | 5MP Front Camera</td>\n",
       "      <td>17.04 cm (6.71 inch) HD+ Display</td>\n",
       "      <td>Mediatek Helio G85 Processor</td>\n",
       "      <td>5000 mAh Battery</td>\n",
       "      <td>₹8,499</td>\n",
       "    </tr>\n",
       "    <tr>\n",
       "      <th>14</th>\n",
       "      <td>Infinix HOT 20 Play (Fantasy Purple, 64 GB)</td>\n",
       "      <td>4 GB RAM | 64 GB ROM | Expandable Upto 256 GB</td>\n",
       "      <td>13Mp + AI Lens | 8MP Front Camera</td>\n",
       "      <td>17.32 cm (6.82 inch) HD+ Display</td>\n",
       "      <td>MediaTek G37 Processor</td>\n",
       "      <td>6000 mAh Li-ion Polymer Battery</td>\n",
       "      <td>₹7,999</td>\n",
       "    </tr>\n",
       "    <tr>\n",
       "      <th>15</th>\n",
       "      <td>POCO M6 Pro 5G (Power Black, 64 GB)</td>\n",
       "      <td>4 GB RAM | 64 GB ROM | Expandable Upto 1 TB</td>\n",
       "      <td>50MP + 2MP | 8MP Front Camera</td>\n",
       "      <td>17.25 cm (6.79 inch) Full HD+ Display</td>\n",
       "      <td>Snapdragon 4 Gen 2 Processor</td>\n",
       "      <td>5000 mAh Battery</td>\n",
       "      <td>₹10,999</td>\n",
       "    </tr>\n",
       "    <tr>\n",
       "      <th>16</th>\n",
       "      <td>POCO C55 (Forest Green, 128 GB)</td>\n",
       "      <td>6 GB RAM | 128 GB ROM | Expandable Upto 1 TB</td>\n",
       "      <td>50MP Dual Rear Camera | 5MP Front Camera</td>\n",
       "      <td>17.04 cm (6.71 inch) HD+ Display</td>\n",
       "      <td>Mediatek Helio G85 Processor</td>\n",
       "      <td>5000 mAh Battery</td>\n",
       "      <td>₹8,499</td>\n",
       "    </tr>\n",
       "    <tr>\n",
       "      <th>17</th>\n",
       "      <td>POCO C50 (Country Green, 32 GB)</td>\n",
       "      <td>2 GB RAM | 32 GB ROM | Expandable Upto 512 GB</td>\n",
       "      <td>8MP Dual Camera | 5MP Front Camera</td>\n",
       "      <td>16.56 cm (6.52 inch) HD+ Display</td>\n",
       "      <td>Mediatek Helio A22 Processor, Upto 2.0 GHz Pro...</td>\n",
       "      <td>5000 mAh Lithium Polymer Battery</td>\n",
       "      <td>₹5,499</td>\n",
       "    </tr>\n",
       "    <tr>\n",
       "      <th>18</th>\n",
       "      <td>MOTOROLA e13 (Aurora Green, 64 GB)</td>\n",
       "      <td>4 GB RAM | 64 GB ROM | Expandable Upto 1 TB</td>\n",
       "      <td>13MP Rear Camera | 5MP Front Camera</td>\n",
       "      <td>16.51 cm (6.5 inch) HD+ Display</td>\n",
       "      <td>Unisoc T606 Processor</td>\n",
       "      <td>5000 mAh Battery</td>\n",
       "      <td>₹7,299</td>\n",
       "    </tr>\n",
       "    <tr>\n",
       "      <th>19</th>\n",
       "      <td>POCO M6 Pro 5G (Forest Green, 64 GB)</td>\n",
       "      <td>4 GB RAM | 64 GB ROM | Expandable Upto 1 TB</td>\n",
       "      <td>50MP + 2MP | 8MP Front Camera</td>\n",
       "      <td>17.25 cm (6.79 inch) Full HD+ Display</td>\n",
       "      <td>Snapdragon 4 Gen 2 Processor</td>\n",
       "      <td>5000 mAh Battery</td>\n",
       "      <td>₹10,999</td>\n",
       "    </tr>\n",
       "    <tr>\n",
       "      <th>20</th>\n",
       "      <td>Infinix SMART 7 (Emerald Green, 64 GB)</td>\n",
       "      <td>4 GB RAM | 64 GB ROM | Expandable Upto 2 TB</td>\n",
       "      <td>13MP + AI Lens | 5MP Front Camera</td>\n",
       "      <td>16.76 cm (6.6 inch) HD+ Display</td>\n",
       "      <td>Unisoc Spreadtrum SC9863A1 Processor</td>\n",
       "      <td>6000 mAh Battery</td>\n",
       "      <td>₹6,999</td>\n",
       "    </tr>\n",
       "    <tr>\n",
       "      <th>21</th>\n",
       "      <td>Infinix SMART 7 (Azure Blue, 64 GB)</td>\n",
       "      <td>4 GB RAM | 64 GB ROM | Expandable Upto 2 TB</td>\n",
       "      <td>13MP + AI Lens | 5MP Front Camera</td>\n",
       "      <td>16.76 cm (6.6 inch) HD+ Display</td>\n",
       "      <td>Unisoc Spreadtrum SC9863A1 Processor</td>\n",
       "      <td>6000 mAh Battery</td>\n",
       "      <td>₹6,999</td>\n",
       "    </tr>\n",
       "    <tr>\n",
       "      <th>22</th>\n",
       "      <td>REDMI 12 (Jade Black, 128 GB)</td>\n",
       "      <td>4 GB RAM | 128 GB ROM | Expandable Upto 1 TB</td>\n",
       "      <td>50MP + 8MP + 2MP | 8MP Front Camera</td>\n",
       "      <td>17.25 cm (6.79 inch) Full HD+ Display</td>\n",
       "      <td>Helio G88 Processor</td>\n",
       "      <td>5000 mAh Battery</td>\n",
       "      <td>₹9,999</td>\n",
       "    </tr>\n",
       "    <tr>\n",
       "      <th>23</th>\n",
       "      <td>Infinix SMART 7 (Emerald Green, 128 GB)</td>\n",
       "      <td>4 GB RAM | 128 GB ROM | Expandable Upto 512 GB</td>\n",
       "      <td>13MP + AI Lens | 5MP Front Camera</td>\n",
       "      <td>16.76 cm (6.6 inch) HD+ Display</td>\n",
       "      <td>Unisoc Spreadtrum SC9863A1 Processor</td>\n",
       "      <td>6000 mAh Battery</td>\n",
       "      <td>₹7,599</td>\n",
       "    </tr>\n",
       "  </tbody>\n",
       "</table>\n",
       "</div>"
      ],
      "text/plain": [
       "                                     Brand_Name  \\\n",
       "0     Infinix HOT 20 Play (Aurora Green, 64 GB)   \n",
       "1          POCO M6 Pro 5G (Power Black, 128 GB)   \n",
       "2     Infinix HOT 20 Play (Racing Black, 64 GB)   \n",
       "3                 POCO C51 (Power Black, 64 GB)   \n",
       "4           REDMI 12 (Moonstone Silver, 128 GB)   \n",
       "5                  POCO C51 (Royal Blue, 64 GB)   \n",
       "6                  POCO C50 (Royal Blue, 32 GB)   \n",
       "7                  POCO C55 (Cool Blue, 128 GB)   \n",
       "8        Infinix HOT 20 Play (Luna Blue, 64 GB)   \n",
       "9        realme 11x 5G (Midnight Black, 128 GB)   \n",
       "10          realme 11x 5G (Purple Dawn, 128 GB)   \n",
       "11          realme 11x 5G (Purple Dawn, 128 GB)   \n",
       "12       realme 11x 5G (Midnight Black, 128 GB)   \n",
       "13               POCO C55 (Power Black, 128 GB)   \n",
       "14  Infinix HOT 20 Play (Fantasy Purple, 64 GB)   \n",
       "15          POCO M6 Pro 5G (Power Black, 64 GB)   \n",
       "16              POCO C55 (Forest Green, 128 GB)   \n",
       "17              POCO C50 (Country Green, 32 GB)   \n",
       "18           MOTOROLA e13 (Aurora Green, 64 GB)   \n",
       "19         POCO M6 Pro 5G (Forest Green, 64 GB)   \n",
       "20       Infinix SMART 7 (Emerald Green, 64 GB)   \n",
       "21          Infinix SMART 7 (Azure Blue, 64 GB)   \n",
       "22                REDMI 12 (Jade Black, 128 GB)   \n",
       "23      Infinix SMART 7 (Emerald Green, 128 GB)   \n",
       "\n",
       "                                   Storage_RAM_ROM  \\\n",
       "0    4 GB RAM | 64 GB ROM | Expandable Upto 256 GB   \n",
       "1     6 GB RAM | 128 GB ROM | Expandable Upto 1 TB   \n",
       "2    4 GB RAM | 64 GB ROM | Expandable Upto 256 GB   \n",
       "3      4 GB RAM | 64 GB ROM | Expandable Upto 1 TB   \n",
       "4     4 GB RAM | 128 GB ROM | Expandable Upto 1 TB   \n",
       "5      4 GB RAM | 64 GB ROM | Expandable Upto 1 TB   \n",
       "6    2 GB RAM | 32 GB ROM | Expandable Upto 512 GB   \n",
       "7     6 GB RAM | 128 GB ROM | Expandable Upto 1 TB   \n",
       "8    4 GB RAM | 64 GB ROM | Expandable Upto 256 GB   \n",
       "9     8 GB RAM | 128 GB ROM | Expandable Upto 2 TB   \n",
       "10    8 GB RAM | 128 GB ROM | Expandable Upto 2 TB   \n",
       "11    6 GB RAM | 128 GB ROM | Expandable Upto 2 TB   \n",
       "12    6 GB RAM | 128 GB ROM | Expandable Upto 2 TB   \n",
       "13    6 GB RAM | 128 GB ROM | Expandable Upto 1 TB   \n",
       "14   4 GB RAM | 64 GB ROM | Expandable Upto 256 GB   \n",
       "15     4 GB RAM | 64 GB ROM | Expandable Upto 1 TB   \n",
       "16    6 GB RAM | 128 GB ROM | Expandable Upto 1 TB   \n",
       "17   2 GB RAM | 32 GB ROM | Expandable Upto 512 GB   \n",
       "18     4 GB RAM | 64 GB ROM | Expandable Upto 1 TB   \n",
       "19     4 GB RAM | 64 GB ROM | Expandable Upto 1 TB   \n",
       "20     4 GB RAM | 64 GB ROM | Expandable Upto 2 TB   \n",
       "21     4 GB RAM | 64 GB ROM | Expandable Upto 2 TB   \n",
       "22    4 GB RAM | 128 GB ROM | Expandable Upto 1 TB   \n",
       "23  4 GB RAM | 128 GB ROM | Expandable Upto 512 GB   \n",
       "\n",
       "                           Amount P_F_Camera  \\\n",
       "0          13Mp + AI Lens | 8MP Front Camera   \n",
       "1              50MP + 2MP | 8MP Front Camera   \n",
       "2          13Mp + AI Lens | 8MP Front Camera   \n",
       "3    8MP Dual Rear Camera | 5MP Front Camera   \n",
       "4        50MP + 8MP + 2MP | 8MP Front Camera   \n",
       "5    8MP Dual Rear Camera | 5MP Front Camera   \n",
       "6         8MP Dual Camera | 5MP Front Camera   \n",
       "7   50MP Dual Rear Camera | 5MP Front Camera   \n",
       "8          13Mp + AI Lens | 8MP Front Camera   \n",
       "9              64MP + 2MP | 8MP Front Camera   \n",
       "10             64MP + 2MP | 8MP Front Camera   \n",
       "11             64MP + 2MP | 8MP Front Camera   \n",
       "12             64MP + 2MP | 8MP Front Camera   \n",
       "13  50MP Dual Rear Camera | 5MP Front Camera   \n",
       "14         13Mp + AI Lens | 8MP Front Camera   \n",
       "15             50MP + 2MP | 8MP Front Camera   \n",
       "16  50MP Dual Rear Camera | 5MP Front Camera   \n",
       "17        8MP Dual Camera | 5MP Front Camera   \n",
       "18       13MP Rear Camera | 5MP Front Camera   \n",
       "19             50MP + 2MP | 8MP Front Camera   \n",
       "20         13MP + AI Lens | 5MP Front Camera   \n",
       "21         13MP + AI Lens | 5MP Front Camera   \n",
       "22       50MP + 8MP + 2MP | 8MP Front Camera   \n",
       "23         13MP + AI Lens | 5MP Front Camera   \n",
       "\n",
       "                  Display_size_Resolution  \\\n",
       "0        17.32 cm (6.82 inch) HD+ Display   \n",
       "1   17.25 cm (6.79 inch) Full HD+ Display   \n",
       "2        17.32 cm (6.82 inch) HD+ Display   \n",
       "3        16.56 cm (6.52 inch) HD+ Display   \n",
       "4   17.25 cm (6.79 inch) Full HD+ Display   \n",
       "5        16.56 cm (6.52 inch) HD+ Display   \n",
       "6        16.56 cm (6.52 inch) HD+ Display   \n",
       "7        17.04 cm (6.71 inch) HD+ Display   \n",
       "8        17.32 cm (6.82 inch) HD+ Display   \n",
       "9   17.07 cm (6.72 inch) Full HD+ Display   \n",
       "10  17.07 cm (6.72 inch) Full HD+ Display   \n",
       "11  17.07 cm (6.72 inch) Full HD+ Display   \n",
       "12  17.07 cm (6.72 inch) Full HD+ Display   \n",
       "13       17.04 cm (6.71 inch) HD+ Display   \n",
       "14       17.32 cm (6.82 inch) HD+ Display   \n",
       "15  17.25 cm (6.79 inch) Full HD+ Display   \n",
       "16       17.04 cm (6.71 inch) HD+ Display   \n",
       "17       16.56 cm (6.52 inch) HD+ Display   \n",
       "18        16.51 cm (6.5 inch) HD+ Display   \n",
       "19  17.25 cm (6.79 inch) Full HD+ Display   \n",
       "20        16.76 cm (6.6 inch) HD+ Display   \n",
       "21        16.76 cm (6.6 inch) HD+ Display   \n",
       "22  17.25 cm (6.79 inch) Full HD+ Display   \n",
       "23        16.76 cm (6.6 inch) HD+ Display   \n",
       "\n",
       "                                    ProcessorAndCores  \\\n",
       "0                              MediaTek G37 Processor   \n",
       "1                        Snapdragon 4 Gen 2 Processor   \n",
       "2                              MediaTek G37 Processor   \n",
       "3                                 Helio G36 Processor   \n",
       "4                                 Helio G88 Processor   \n",
       "5                                 Helio G36 Processor   \n",
       "6   Mediatek Helio A22 Processor, Upto 2.0 GHz Pro...   \n",
       "7                        Mediatek Helio G85 Processor   \n",
       "8                              MediaTek G37 Processor   \n",
       "9                           Dimensity 6100+ Processor   \n",
       "10                          Dimensity 6100+ Processor   \n",
       "11                          Dimensity 6100+ Processor   \n",
       "12                          Dimensity 6100+ Processor   \n",
       "13                       Mediatek Helio G85 Processor   \n",
       "14                             MediaTek G37 Processor   \n",
       "15                       Snapdragon 4 Gen 2 Processor   \n",
       "16                       Mediatek Helio G85 Processor   \n",
       "17  Mediatek Helio A22 Processor, Upto 2.0 GHz Pro...   \n",
       "18                              Unisoc T606 Processor   \n",
       "19                       Snapdragon 4 Gen 2 Processor   \n",
       "20               Unisoc Spreadtrum SC9863A1 Processor   \n",
       "21               Unisoc Spreadtrum SC9863A1 Processor   \n",
       "22                                Helio G88 Processor   \n",
       "23               Unisoc Spreadtrum SC9863A1 Processor   \n",
       "\n",
       "                             Battery    Price  \n",
       "0    6000 mAh Li-ion Polymer Battery   ₹7,999  \n",
       "1                   5000 mAh Battery  ₹12,999  \n",
       "2    6000 mAh Li-ion Polymer Battery   ₹7,999  \n",
       "3                   5000 mAh Battery   ₹6,499  \n",
       "4                   5000 mAh Battery   ₹9,999  \n",
       "5                   5000 mAh Battery   ₹6,499  \n",
       "6   5000 mAh Lithium Polymer Battery   ₹5,499  \n",
       "7                   5000 mAh Battery   ₹8,499  \n",
       "8    6000 mAh Li-ion Polymer Battery   ₹7,999  \n",
       "9                   5000 mAh Battery  ₹15,999  \n",
       "10                  5000 mAh Battery  ₹15,999  \n",
       "11                  5000 mAh Battery  ₹14,999  \n",
       "12                  5000 mAh Battery  ₹14,999  \n",
       "13                  5000 mAh Battery   ₹8,499  \n",
       "14   6000 mAh Li-ion Polymer Battery   ₹7,999  \n",
       "15                  5000 mAh Battery  ₹10,999  \n",
       "16                  5000 mAh Battery   ₹8,499  \n",
       "17  5000 mAh Lithium Polymer Battery   ₹5,499  \n",
       "18                  5000 mAh Battery   ₹7,299  \n",
       "19                  5000 mAh Battery  ₹10,999  \n",
       "20                  6000 mAh Battery   ₹6,999  \n",
       "21                  6000 mAh Battery   ₹6,999  \n",
       "22                  5000 mAh Battery   ₹9,999  \n",
       "23                  6000 mAh Battery   ₹7,599  "
      ]
     },
     "execution_count": 111,
     "metadata": {},
     "output_type": "execute_result"
    }
   ],
   "source": [
    "FlipKart=pd.DataFrame([])\n",
    "FlipKart['Brand_Name']=Brand_Name\n",
    "FlipKart['Storage_RAM_ROM']=Storage_RAM_ROM\n",
    "FlipKart['Amount P_F_Camera']=P_F_Camera\n",
    "FlipKart['Display_size_Resolution']=Display_size_Resolution\n",
    "FlipKart['ProcessorAndCores']=ProcessorAndCores\n",
    "FlipKart['Battery']=Battery\n",
    "FlipKart['Price']=Price\n",
    "\n",
    "FlipKart"
   ]
  },
  {
   "cell_type": "markdown",
   "id": "09397661",
   "metadata": {},
   "source": [
    "# 6. Write a program to scrap all the available details of top 10 gaming laptops from digit.in."
   ]
  },
  {
   "cell_type": "code",
   "execution_count": 112,
   "id": "c679c013",
   "metadata": {},
   "outputs": [],
   "source": [
    "driver = webdriver.Chrome()"
   ]
  },
  {
   "cell_type": "code",
   "execution_count": null,
   "id": "45d47b97",
   "metadata": {},
   "outputs": [],
   "source": [
    "url=\"https://www.digit.in\"\n",
    "driver.get(url) class=\"TopNumbeHeading active\""
   ]
  },
  {
   "cell_type": "code",
   "execution_count": 113,
   "id": "2421b378",
   "metadata": {},
   "outputs": [],
   "source": [
    "url=\"https://www.digit.in/top-products/best-gaming-laptops-40.html\""
   ]
  },
  {
   "cell_type": "code",
   "execution_count": 114,
   "id": "13d18c18",
   "metadata": {},
   "outputs": [],
   "source": [
    "driver.get(url)"
   ]
  },
  {
   "cell_type": "code",
   "execution_count": 115,
   "id": "d139b963",
   "metadata": {},
   "outputs": [],
   "source": [
    "Brands=[]\n",
    "Specification=[]\n",
    "Price=[]"
   ]
  },
  {
   "cell_type": "code",
   "execution_count": 120,
   "id": "b04991be",
   "metadata": {},
   "outputs": [
    {
     "data": {
      "text/plain": [
       "7"
      ]
     },
     "execution_count": 120,
     "metadata": {},
     "output_type": "execute_result"
    }
   ],
   "source": [
    "br=driver.find_elements(By.XPATH,\"//span[@class='datahreflink']/h3\")\n",
    "len(br)"
   ]
  },
  {
   "cell_type": "code",
   "execution_count": 121,
   "id": "a07a9ba5",
   "metadata": {},
   "outputs": [
    {
     "data": {
      "text/plain": [
       "['HP OMEN 17 (2023)',\n",
       " 'MSI Titan GT77 12UHS',\n",
       " 'Lenovo Legion 5i Pro',\n",
       " 'ASUS ROG Strix Scar 18 2023',\n",
       " 'Acer Predator Helios Neo 16',\n",
       " 'ASUS ROG Zephyrus G14',\n",
       " 'MSI Cyborg 15']"
      ]
     },
     "execution_count": 121,
     "metadata": {},
     "output_type": "execute_result"
    }
   ],
   "source": [
    "for i in br:\n",
    "   \n",
    "    Brands.append(str(i.text).replace(\"\\n\",\"\"))\n",
    "Brands"
   ]
  },
  {
   "cell_type": "code",
   "execution_count": 122,
   "id": "eed2b585",
   "metadata": {},
   "outputs": [
    {
     "data": {
      "text/plain": [
       "7"
      ]
     },
     "execution_count": 122,
     "metadata": {},
     "output_type": "execute_result"
    }
   ],
   "source": [
    "sp=driver.find_elements(By.XPATH,\"//div[@class='Specs-Wrap']\")\n",
    "len(sp)"
   ]
  },
  {
   "cell_type": "code",
   "execution_count": 123,
   "id": "afb74f51",
   "metadata": {},
   "outputs": [
    {
     "data": {
      "text/plain": [
       "['Windows 11 Home17.3\" (2560 x 1440)13th Gen Intel Core i7-13700HX | 5.0 GHz1 TB SSD/16 GB DDR5',\n",
       " 'Windows 11 Home17.3\" (3840 x 2160)12th Gen Intel Core i9-12900HX | 3.6 GHz2 TB SSD/64 GB DDR5',\n",
       " 'Windows 11 Home16\" (2560 x 1600)12th Gen Intel Core i7-12700H | 4.7 GHz1 TB SSD/32 GB DDR5',\n",
       " 'Windows 11 Home18\" (1920 x 1200)13th Gen Intel Core i9-13980HX | 2.2 GHz1 TB SSD/32 GB DDR5',\n",
       " 'Windows 11 Home16\" (2560 x 1600)13th Gen Intel Core i7-13700HX | NA1 TB SSD/16 GB DDR5',\n",
       " 'Windows 11 Home14\" (1920 x 1200)AMD Ryzen 9-6900HS | 4.9 GHz1 TB SSD/16 GB DDR5',\n",
       " 'Windows 11 Home15.6\" (1920 x 1080)12th Gen Intel Core i7-12650H | 4.7 GHz1 TB SSD/16 GB DDR5']"
      ]
     },
     "execution_count": 123,
     "metadata": {},
     "output_type": "execute_result"
    }
   ],
   "source": [
    "for i in sp:\n",
    "   \n",
    "    Specification.append(str(i.text).replace(\"\\n\",\"\"))\n",
    "Specification"
   ]
  },
  {
   "cell_type": "code",
   "execution_count": 124,
   "id": "a0e70eb4",
   "metadata": {},
   "outputs": [
    {
     "data": {
      "text/plain": [
       "7"
      ]
     },
     "execution_count": 124,
     "metadata": {},
     "output_type": "execute_result"
    }
   ],
   "source": [
    "pri=driver.find_elements(By.XPATH,\"//td[@class='smprice']\")\n",
    "len(pri)"
   ]
  },
  {
   "cell_type": "code",
   "execution_count": 125,
   "id": "1bbf9f0a",
   "metadata": {},
   "outputs": [
    {
     "data": {
      "text/plain": [
       "['₹ 269,777',\n",
       " '₹ 499,990',\n",
       " '₹ 179,990',\n",
       " '₹ 279,990',\n",
       " '₹ 149,990',\n",
       " '₹ 156,990',\n",
       " '₹ 125,000']"
      ]
     },
     "execution_count": 125,
     "metadata": {},
     "output_type": "execute_result"
    }
   ],
   "source": [
    "for i in pri:\n",
    "   \n",
    "    Price.append(str(i.text).replace(\"\\n\",\"\"))\n",
    "Price"
   ]
  },
  {
   "cell_type": "code",
   "execution_count": 126,
   "id": "7e57a619",
   "metadata": {},
   "outputs": [
    {
     "data": {
      "text/html": [
       "<div>\n",
       "<style scoped>\n",
       "    .dataframe tbody tr th:only-of-type {\n",
       "        vertical-align: middle;\n",
       "    }\n",
       "\n",
       "    .dataframe tbody tr th {\n",
       "        vertical-align: top;\n",
       "    }\n",
       "\n",
       "    .dataframe thead th {\n",
       "        text-align: right;\n",
       "    }\n",
       "</style>\n",
       "<table border=\"1\" class=\"dataframe\">\n",
       "  <thead>\n",
       "    <tr style=\"text-align: right;\">\n",
       "      <th></th>\n",
       "      <th>Brands</th>\n",
       "      <th>Price</th>\n",
       "      <th>Specification</th>\n",
       "    </tr>\n",
       "  </thead>\n",
       "  <tbody>\n",
       "    <tr>\n",
       "      <th>0</th>\n",
       "      <td>HP OMEN 17 (2023)</td>\n",
       "      <td>₹ 269,777</td>\n",
       "      <td>Windows 11 Home17.3\" (2560 x 1440)13th Gen Int...</td>\n",
       "    </tr>\n",
       "    <tr>\n",
       "      <th>1</th>\n",
       "      <td>MSI Titan GT77 12UHS</td>\n",
       "      <td>₹ 499,990</td>\n",
       "      <td>Windows 11 Home17.3\" (3840 x 2160)12th Gen Int...</td>\n",
       "    </tr>\n",
       "    <tr>\n",
       "      <th>2</th>\n",
       "      <td>Lenovo Legion 5i Pro</td>\n",
       "      <td>₹ 179,990</td>\n",
       "      <td>Windows 11 Home16\" (2560 x 1600)12th Gen Intel...</td>\n",
       "    </tr>\n",
       "    <tr>\n",
       "      <th>3</th>\n",
       "      <td>ASUS ROG Strix Scar 18 2023</td>\n",
       "      <td>₹ 279,990</td>\n",
       "      <td>Windows 11 Home18\" (1920 x 1200)13th Gen Intel...</td>\n",
       "    </tr>\n",
       "    <tr>\n",
       "      <th>4</th>\n",
       "      <td>Acer Predator Helios Neo 16</td>\n",
       "      <td>₹ 149,990</td>\n",
       "      <td>Windows 11 Home16\" (2560 x 1600)13th Gen Intel...</td>\n",
       "    </tr>\n",
       "    <tr>\n",
       "      <th>5</th>\n",
       "      <td>ASUS ROG Zephyrus G14</td>\n",
       "      <td>₹ 156,990</td>\n",
       "      <td>Windows 11 Home14\" (1920 x 1200)AMD Ryzen 9-69...</td>\n",
       "    </tr>\n",
       "    <tr>\n",
       "      <th>6</th>\n",
       "      <td>MSI Cyborg 15</td>\n",
       "      <td>₹ 125,000</td>\n",
       "      <td>Windows 11 Home15.6\" (1920 x 1080)12th Gen Int...</td>\n",
       "    </tr>\n",
       "  </tbody>\n",
       "</table>\n",
       "</div>"
      ],
      "text/plain": [
       "                        Brands      Price  \\\n",
       "0            HP OMEN 17 (2023)  ₹ 269,777   \n",
       "1         MSI Titan GT77 12UHS  ₹ 499,990   \n",
       "2         Lenovo Legion 5i Pro  ₹ 179,990   \n",
       "3  ASUS ROG Strix Scar 18 2023  ₹ 279,990   \n",
       "4  Acer Predator Helios Neo 16  ₹ 149,990   \n",
       "5        ASUS ROG Zephyrus G14  ₹ 156,990   \n",
       "6                MSI Cyborg 15  ₹ 125,000   \n",
       "\n",
       "                                       Specification  \n",
       "0  Windows 11 Home17.3\" (2560 x 1440)13th Gen Int...  \n",
       "1  Windows 11 Home17.3\" (3840 x 2160)12th Gen Int...  \n",
       "2  Windows 11 Home16\" (2560 x 1600)12th Gen Intel...  \n",
       "3  Windows 11 Home18\" (1920 x 1200)13th Gen Intel...  \n",
       "4  Windows 11 Home16\" (2560 x 1600)13th Gen Intel...  \n",
       "5  Windows 11 Home14\" (1920 x 1200)AMD Ryzen 9-69...  \n",
       "6  Windows 11 Home15.6\" (1920 x 1080)12th Gen Int...  "
      ]
     },
     "execution_count": 126,
     "metadata": {},
     "output_type": "execute_result"
    }
   ],
   "source": [
    "digit_lap=pd.DataFrame([])\n",
    "digit_lap['Brands']=Brands[0:10]\n",
    "digit_lap['Price']=Price[0:10]\n",
    "digit_lap['Specification']=Specification[0:10]\n",
    "digit_lap"
   ]
  },
  {
   "cell_type": "markdown",
   "id": "63d4bd74",
   "metadata": {},
   "source": [
    "# 5. Write a program to scrap geospatial coordinates (latitude, longitude) of a city searched on google maps."
   ]
  },
  {
   "cell_type": "code",
   "execution_count": 127,
   "id": "d6aa87be",
   "metadata": {},
   "outputs": [],
   "source": [
    "import time\n",
    "import re"
   ]
  },
  {
   "cell_type": "code",
   "execution_count": 128,
   "id": "99edf5b8",
   "metadata": {},
   "outputs": [],
   "source": [
    "driver = webdriver.Chrome()"
   ]
  },
  {
   "cell_type": "code",
   "execution_count": 129,
   "id": "b56d8b80",
   "metadata": {},
   "outputs": [],
   "source": [
    "driver.get(\"https://www.google.co.in/maps\")\n",
    "time.sleep(3)"
   ]
  },
  {
   "cell_type": "code",
   "execution_count": 130,
   "id": "e58b72d4",
   "metadata": {},
   "outputs": [],
   "source": [
    "designation=driver.find_element(By.CLASS_NAME,\"searchboxinput\")\n",
    "designation.send_keys(\"Raipur\")"
   ]
  },
  {
   "cell_type": "code",
   "execution_count": 131,
   "id": "fd428031",
   "metadata": {},
   "outputs": [
    {
     "name": "stdout",
     "output_type": "stream",
     "text": [
      "Enter City Name : Raipur\n",
      "URL Extracted:  https://www.google.co.in/maps/place/Raipur,+Chhattisgarh/@21.2618855,81.5366704,12z/data=!4m6!3m5!1s0x3a28dda23be28229:0x163ee1204ff9e240!8m2!3d21.2513844!4d81.6296413!16zL20vMDJ0NXM0?entry=ttu\n",
      "Latitude = 21.2618855, Longitude = 81.5366704\n"
     ]
    }
   ],
   "source": [
    "city = input('Enter City Name : ')                                        \n",
    "search = driver.find_element(By.CLASS_NAME,\"searchboxinput\")                      \n",
    "search.clear()                                                            \n",
    "time.sleep(2)\n",
    "search.send_keys(city)                                                     \n",
    "button = driver.find_element(By.ID,\"searchbox-searchbutton\")               \n",
    "button.click()                                                            \n",
    "time.sleep(3)\n",
    "\n",
    "try:\n",
    "    url_string = driver.current_url\n",
    "    print(\"URL Extracted: \", url_string)\n",
    "    lat_lng = re.findall(r'@(.*)data',url_string)\n",
    "    if len(lat_lng):\n",
    "        lat_lng_list = lat_lng[0].split(\",\")\n",
    "        if len(lat_lng_list)>=2:\n",
    "            lat = lat_lng_list[0]\n",
    "            lng = lat_lng_list[1]\n",
    "        print(\"Latitude = {}, Longitude = {}\".format(lat, lng))\n",
    "\n",
    "except Exception as e:\n",
    "        print(\"Error: \", str(e))"
   ]
  },
  {
   "cell_type": "markdown",
   "id": "0f43d9de",
   "metadata": {},
   "source": [
    "# Quetions 1"
   ]
  },
  {
   "cell_type": "code",
   "execution_count": null,
   "id": "3ffe1ef2",
   "metadata": {},
   "outputs": [],
   "source": [
    "driver = webdriver.Chrome()"
   ]
  },
  {
   "cell_type": "code",
   "execution_count": null,
   "id": "e693340d",
   "metadata": {},
   "outputs": [],
   "source": [
    "driver.get('https://www.amazon.in/')"
   ]
  },
  {
   "cell_type": "code",
   "execution_count": null,
   "id": "0ddb6543",
   "metadata": {},
   "outputs": [],
   "source": [
    "inputU = input('please enter product here--->')"
   ]
  },
  {
   "cell_type": "code",
   "execution_count": null,
   "id": "6daacfc1",
   "metadata": {},
   "outputs": [],
   "source": []
  },
  {
   "cell_type": "code",
   "execution_count": null,
   "id": "2a5e6db1",
   "metadata": {},
   "outputs": [],
   "source": []
  },
  {
   "cell_type": "markdown",
   "id": "225ab85d",
   "metadata": {},
   "source": [
    "# Quetion - 2"
   ]
  },
  {
   "cell_type": "code",
   "execution_count": null,
   "id": "0e0618e9",
   "metadata": {},
   "outputs": [],
   "source": [
    "start_page = 0\n",
    "end_page = 3\n",
    "urls = []\n",
    "for page in range(start_page,end_page+1):\n",
    "    try:\n",
    "        page_urls = driver.find_elements(By.XPATH,'//a[@class=\"a-link-normal s-no-outline\"]')\n",
    "        \n",
    "        for url in page_urls:\n",
    "            url = url.get_attribute('href')     \n",
    "            if url[0:4]=='http':               \n",
    "                urls.append(url)              \n",
    "        print(\"Product urls of page {} has been scraped.\".format(page+1))\n",
    "        \n",
    "        \n",
    "        nxt_button = driver.find_element(By.XPATH,'//li[@class=\"a-last\"]/a')     \n",
    "        if nxt_button.text == 'Next→':                                            \n",
    "            nxt_button.click()                                                    \n",
    "            time.sleep(5)                                                        \n",
    "         \n",
    "        elif driver.find_element(By.XPATH,'//li[@class=\"a-disabled a-last\"]/a').text == 'Next→':    \n",
    "            print(\"No new pages exist. Breaking the loop\") \n",
    "            break\n",
    "            \n",
    "    except StaleElementReferenceException as e:            \n",
    "        print(\"Stale Exception\")\n",
    "        next_page = nxt_button.get_attribute('href')        \n",
    "        driver.get(next_page)"
   ]
  },
  {
   "cell_type": "code",
   "execution_count": null,
   "id": "9d2366fd",
   "metadata": {},
   "outputs": [],
   "source": [
    "prod_dict = {}\n",
    "prod_dict['Brand']=[]\n",
    "prod_dict['Name']=[]\n",
    "prod_dict['Rating']=[]\n",
    "prod_dict['No. of ratings']=[]\n",
    "prod_dict['Price']=[]\n",
    "prod_dict['Return/Exchange']=[]\n",
    "prod_dict['Expected Delivery']=[] \n",
    "prod_dict['Availability']=[]\n",
    "prod_dict['Other Details']=[]\n",
    "prod_dict['URL']=[]"
   ]
  },
  {
   "cell_type": "markdown",
   "id": "44ff3e07",
   "metadata": {},
   "source": [
    "# 7. Write a python program to scrape the details for all billionaires from www.forbes.com. Details to be scrapped: \n",
    "“Rank”, “Name”, “Net worth”, “Age”, “Citizenship”, “Source”, “Industry”"
   ]
  },
  {
   "cell_type": "code",
   "execution_count": null,
   "id": "a29b447d",
   "metadata": {},
   "outputs": [],
   "source": [
    "driver = webdriver.Chrome()"
   ]
  },
  {
   "cell_type": "code",
   "execution_count": null,
   "id": "a6fb4791",
   "metadata": {},
   "outputs": [],
   "source": [
    "driver.get('https://www.forbes.com/')"
   ]
  },
  {
   "cell_type": "code",
   "execution_count": null,
   "id": "4377ec11",
   "metadata": {},
   "outputs": [],
   "source": [
    "Rank=[]\n",
    "Name=[]\n",
    "Net_worth=[]\n",
    "Age=[]\n",
    "Citizenship=[]\n",
    "Source=[]\n",
    "Industry=[]"
   ]
  },
  {
   "cell_type": "code",
   "execution_count": null,
   "id": "fa8f2a8d",
   "metadata": {},
   "outputs": [],
   "source": [
    "Rank_tags=driver.find_elements(By.XPATH,'//div[@class=\"TableRow_cell__db-hv Table_cell__houv9\"][1]')\n",
    "for i in Rank_tags[0:200]:\n",
    "    Rank=i.text\n",
    "    Rank_name.append(Rank)\n",
    "    \n",
    "Name_tags=driver.find_elements(By.XPATH,'//div[@class=\"TableRow_cell__db-hv Table_cell__houv9\"][2]')\n",
    "for i in Name_tags[0:200]:\n",
    "    Name=i.text\n",
    "    Name.append(Name)\n",
    "    \n",
    "Net_worth_tags=driver.find_elements(By.XPATH,'//div[@class=\"TableRow_cell__db-hv Table_cell__houv9\"][3]')\n",
    "for i in Net_worth_tags[0:200]:\n",
    "    Net_worth=i.text\n",
    "    Net_worth.append(Net_worth)\n",
    "    \n",
    "Age_tags=driver.find_elements(By.XPATH,'//div[@class=\"TableRow_cell__db-hv Table_cell__houv9\"][4]')\n",
    "for i in Age_tags[0:200]:\n",
    "    Age=i.text\n",
    "    Age.append(Age)\n",
    "    \n",
    "Citizenship_tags=driver.find_elements(By.XPATH,'//div[@class=\"TableRow_cell__db-hv Table_cell__houv9\"][5]')\n",
    "for i in Citizenship_tags[0:200]:\n",
    "    Citizenship=i.text\n",
    "    Citizenship_name.append(Citizenship)\n",
    "    \n",
    "Source_tags=driver.find_elements(By.XPATH,'//div[@class=\"TableRow_cell__db-hv Table_cell__houv9\"][6]')\n",
    "for i in Source_tags[0:200]:\n",
    "    Source=i.text\n",
    "    Source_name.append(Source)\n",
    "    \n",
    "Industry_tags=driver.find_elements(By.XPATH,'//div[@class=\"TableRow_cell__db-hv Table_cell__houv9\"][7]')\n",
    "for i in Industry_tags[0:200]:\n",
    "    Industry=i.text\n",
    "    Industry_name.append(Industry)\n",
    "            "
   ]
  },
  {
   "cell_type": "code",
   "execution_count": null,
   "id": "ed0446ca",
   "metadata": {},
   "outputs": [],
   "source": [
    "Rank_tags=driver.find_elements(By.XPATH,'//div[@class=\"TableRow_cell__db-hv Table_cell__houv9\"][1]')\n",
    "for i in Rank_tags[0:200]:\n",
    "    Rank=i.text\n",
    "    Rank_name.append(Rank)\n",
    "    \n",
    "Name_tags=driver.find_elements(By.XPATH,'//div[@class=\"TableRow_cell__db-hv Table_cell__houv9\"][2]')\n",
    "for i in Name_tags[0:200]:\n",
    "    Name=i.text\n",
    "    Name.append(Name)\n",
    "    \n",
    "Net_worth_tags=driver.find_elements(By.XPATH,'//div[@class=\"TableRow_cell__db-hv Table_cell__houv9\"][3]')\n",
    "for i in Net_worth_tags[0:200]:\n",
    "    Net_worth=i.text\n",
    "    Net_worth.append(Net_worth)\n",
    "    \n",
    "Age_tags=driver.find_elements(By.XPATH,'//div[@class=\"TableRow_cell__db-hv Table_cell__houv9\"][4]')\n",
    "for i in Age_tags[0:200]:\n",
    "    Age=i.text\n",
    "    Age.append(Age)\n",
    "    \n",
    "Citizenship_tags=driver.find_elements(By.XPATH,'//div[@class=\"TableRow_cell__db-hv Table_cell__houv9\"][5]')\n",
    "for i in Citizenship_tags[0:200]:\n",
    "    Citizenship=i.text\n",
    "    Citizenship_name.append(Citizenship)\n",
    "    \n",
    "Source_tags=driver.find_elements(By.XPATH,'//div[@class=\"TableRow_cell__db-hv Table_cell__houv9\"][6]')\n",
    "for i in Source_tags[0:200]:\n",
    "    Source=i.text\n",
    "    Source_name.append(Source)\n",
    "    \n",
    "Industry_tags=driver.find_elements(By.XPATH,'//div[@class=\"TableRow_cell__db-hv Table_cell__houv9\"][7]')\n",
    "for i in Industry_tags[0:200]:\n",
    "    Industry=i.text\n",
    "    Industry_name.append(Industry)"
   ]
  },
  {
   "cell_type": "markdown",
   "id": "c59a9b18",
   "metadata": {},
   "source": [
    "# Q.3 "
   ]
  },
  {
   "cell_type": "markdown",
   "id": "35c58759",
   "metadata": {},
   "source": [
    "# Fruits"
   ]
  },
  {
   "cell_type": "code",
   "execution_count": 6,
   "id": "07490d28",
   "metadata": {},
   "outputs": [],
   "source": [
    "driver = webdriver.Chrome()"
   ]
  },
  {
   "cell_type": "code",
   "execution_count": 7,
   "id": "15fec610",
   "metadata": {},
   "outputs": [],
   "source": [
    "driver.get('https://images.google.com/')"
   ]
  },
  {
   "cell_type": "code",
   "execution_count": 10,
   "id": "11680d26",
   "metadata": {},
   "outputs": [],
   "source": [
    "designation=driver.find_element(By.CLASS_NAME,\"gLFyf\")\n",
    "designation.send_keys(\"Fruits\")"
   ]
  },
  {
   "cell_type": "code",
   "execution_count": 17,
   "id": "5cc0bd9c",
   "metadata": {},
   "outputs": [
    {
     "name": "stdout",
     "output_type": "stream",
     "text": [
      "start scrolling to generate more images on the page...\n"
     ]
    }
   ],
   "source": [
    "print(\"start scrolling to generate more images on the page...\")\n",
    "for _ in range(20):\n",
    "    driver.execute_script(\"window.scrollBy(0,100)\")"
   ]
  },
  {
   "cell_type": "code",
   "execution_count": 18,
   "id": "e4991517",
   "metadata": {},
   "outputs": [],
   "source": [
    " images = driver.find_elements(By.XPATH,'//img[@class=\"rg_i Q4LuWd\"]')"
   ]
  },
  {
   "cell_type": "code",
   "execution_count": 19,
   "id": "8e4c1fb3",
   "metadata": {},
   "outputs": [],
   "source": [
    "img_urls = []\n",
    "for image in images:\n",
    "    source= image.get_attribute('src')\n",
    "    if source is not None:\n",
    "        if(source[0:4] == 'http'):\n",
    "            img_urls.append(source)"
   ]
  },
  {
   "cell_type": "code",
   "execution_count": 23,
   "id": "59e78c87",
   "metadata": {},
   "outputs": [
    {
     "name": "stdout",
     "output_type": "stream",
     "text": [
      "Downloading 0 of 10 images\n",
      "Downloading 1 of 10 images\n",
      "Downloading 2 of 10 images\n",
      "Downloading 3 of 10 images\n",
      "Downloading 4 of 10 images\n",
      "Downloading 5 of 10 images\n",
      "Downloading 6 of 10 images\n",
      "Downloading 7 of 10 images\n",
      "Downloading 8 of 10 images\n",
      "Downloading 9 of 10 images\n"
     ]
    }
   ],
   "source": [
    "for i in range(len(img_urls)):\n",
    "    if i >= 10:  \n",
    "         break\n",
    "    print(\"Downloading {0} of {1} images\" .format(i, 10))\n",
    "    response= requests.get(img_urls[i])\n",
    "    file = open(r\"C:\\Users\\sattu\\Desktop\\Fliprobo\"+str(i)+\".jpg\", \"wb\")\n",
    "    file.write(response.content)"
   ]
  },
  {
   "cell_type": "markdown",
   "id": "786cec44",
   "metadata": {},
   "source": [
    "# Cars"
   ]
  },
  {
   "cell_type": "code",
   "execution_count": 50,
   "id": "5301f2ba",
   "metadata": {},
   "outputs": [],
   "source": [
    "driver = webdriver.Chrome()"
   ]
  },
  {
   "cell_type": "code",
   "execution_count": 51,
   "id": "aa748c92",
   "metadata": {},
   "outputs": [],
   "source": [
    "driver.get('https://images.google.com/')"
   ]
  },
  {
   "cell_type": "code",
   "execution_count": 52,
   "id": "95ce0c9b",
   "metadata": {},
   "outputs": [],
   "source": [
    "designation=driver.find_element(By.CLASS_NAME,\"gLFyf\")\n",
    "designation.send_keys(\"Cars\")"
   ]
  },
  {
   "cell_type": "code",
   "execution_count": 53,
   "id": "e7f6b7c1",
   "metadata": {},
   "outputs": [
    {
     "name": "stdout",
     "output_type": "stream",
     "text": [
      "start scrolling to generate more images on the page...\n"
     ]
    }
   ],
   "source": [
    "print(\"start scrolling to generate more images on the page...\")\n",
    "for _ in range(20):\n",
    "    driver.execute_script(\"window.scrollBy(0,100)\")"
   ]
  },
  {
   "cell_type": "code",
   "execution_count": 54,
   "id": "bcd5765c",
   "metadata": {},
   "outputs": [],
   "source": [
    " images = driver.find_elements(By.XPATH,'//img[@class=\"rg_i Q4LuWd\"]')"
   ]
  },
  {
   "cell_type": "code",
   "execution_count": 55,
   "id": "98810c70",
   "metadata": {},
   "outputs": [],
   "source": [
    "img_urls = []\n",
    "for image in images:\n",
    "    source= image.get_attribute('src')\n",
    "    if source is not None:\n",
    "        if(source[0:4] == 'http'):\n",
    "            img_urls.append(source)"
   ]
  },
  {
   "cell_type": "code",
   "execution_count": 56,
   "id": "4c1e749a",
   "metadata": {},
   "outputs": [
    {
     "name": "stdout",
     "output_type": "stream",
     "text": [
      "Downloading 0 of 10 images\n",
      "Downloading 1 of 10 images\n",
      "Downloading 2 of 10 images\n",
      "Downloading 3 of 10 images\n",
      "Downloading 4 of 10 images\n",
      "Downloading 5 of 10 images\n",
      "Downloading 6 of 10 images\n",
      "Downloading 7 of 10 images\n",
      "Downloading 8 of 10 images\n",
      "Downloading 9 of 10 images\n"
     ]
    }
   ],
   "source": [
    "for i in range(len(img_urls)):\n",
    "    if i >= 10:  \n",
    "         break\n",
    "    print(\"Downloading {0} of {1} images\" .format(i, 10))\n",
    "    response= requests.get(img_urls[i])\n",
    "    file = open(r\"C:\\Users\\sattu\\Desktop\\Fliprobo\"+str(i)+\".jpg\", \"wb\")\n",
    "    file.write(response.content)"
   ]
  },
  {
   "cell_type": "markdown",
   "id": "8625650a",
   "metadata": {},
   "source": [
    "# Machine Learning"
   ]
  },
  {
   "cell_type": "markdown",
   "id": "49d71853",
   "metadata": {},
   "source": [
    "driver = webdriver.Chrome()"
   ]
  },
  {
   "cell_type": "code",
   "execution_count": 58,
   "id": "6898e793",
   "metadata": {},
   "outputs": [],
   "source": [
    "driver.get('https://images.google.com/')"
   ]
  },
  {
   "cell_type": "code",
   "execution_count": 59,
   "id": "375e0dc3",
   "metadata": {},
   "outputs": [],
   "source": [
    "designation=driver.find_element(By.CLASS_NAME,\"gLFyf\")\n",
    "designation.send_keys(\"Machine Learning\")"
   ]
  },
  {
   "cell_type": "code",
   "execution_count": 62,
   "id": "84daff9e",
   "metadata": {},
   "outputs": [
    {
     "name": "stdout",
     "output_type": "stream",
     "text": [
      "start scrolling to generate more images on the page...\n"
     ]
    }
   ],
   "source": [
    "print(\"start scrolling to generate more images on the page...\")\n",
    "for _ in range(20):\n",
    "    driver.execute_script(\"window.scrollBy(0,100)\")"
   ]
  },
  {
   "cell_type": "code",
   "execution_count": 64,
   "id": "ae6951f1",
   "metadata": {},
   "outputs": [],
   "source": [
    "images = driver.find_elements(By.XPATH,'//img[@class=\"rg_i Q4LuWd\"]')"
   ]
  },
  {
   "cell_type": "code",
   "execution_count": 65,
   "id": "b5a8a5d0",
   "metadata": {},
   "outputs": [],
   "source": [
    "img_urls = []\n",
    "for image in images:\n",
    "    source= image.get_attribute('src')\n",
    "    if source is not None:\n",
    "        if(source[0:4] == 'http'):\n",
    "            img_urls.append(source)"
   ]
  },
  {
   "cell_type": "code",
   "execution_count": 66,
   "id": "645a97c2",
   "metadata": {},
   "outputs": [
    {
     "name": "stdout",
     "output_type": "stream",
     "text": [
      "Downloading 0 of 10 images\n",
      "Downloading 1 of 10 images\n",
      "Downloading 2 of 10 images\n",
      "Downloading 3 of 10 images\n",
      "Downloading 4 of 10 images\n",
      "Downloading 5 of 10 images\n",
      "Downloading 6 of 10 images\n",
      "Downloading 7 of 10 images\n",
      "Downloading 8 of 10 images\n",
      "Downloading 9 of 10 images\n"
     ]
    }
   ],
   "source": [
    "for i in range(len(img_urls)):\n",
    "    if i >= 10:  \n",
    "         break\n",
    "    print(\"Downloading {0} of {1} images\" .format(i, 10))\n",
    "    response= requests.get(img_urls[i])\n",
    "    file = open(r\"C:\\Users\\sattu\\Desktop\\Fliprobo\"+str(i)+\".jpg\", \"wb\")\n",
    "    file.write(response.content)"
   ]
  },
  {
   "cell_type": "markdown",
   "id": "6e83add2",
   "metadata": {},
   "source": [
    "# Guitar"
   ]
  },
  {
   "cell_type": "code",
   "execution_count": 93,
   "id": "4374e12d",
   "metadata": {},
   "outputs": [],
   "source": [
    "driver = webdriver.Chrome()"
   ]
  },
  {
   "cell_type": "code",
   "execution_count": 94,
   "id": "8e6d3326",
   "metadata": {},
   "outputs": [],
   "source": [
    "driver.get('https://images.google.com/')"
   ]
  },
  {
   "cell_type": "code",
   "execution_count": 95,
   "id": "508b50ba",
   "metadata": {},
   "outputs": [],
   "source": [
    "designation=driver.find_element(By.CLASS_NAME,\"gLFyf\")\n",
    "designation.send_keys(\"Cakes\")"
   ]
  },
  {
   "cell_type": "code",
   "execution_count": 73,
   "id": "11bf3da6",
   "metadata": {},
   "outputs": [
    {
     "name": "stdout",
     "output_type": "stream",
     "text": [
      "start scrolling to generate more images on the page...\n"
     ]
    }
   ],
   "source": [
    "print(\"start scrolling to generate more images on the page...\")\n",
    "for _ in range(20):\n",
    "    driver.execute_script(\"window.scrollBy(0,100)\")"
   ]
  },
  {
   "cell_type": "code",
   "execution_count": 74,
   "id": "4e1cc875",
   "metadata": {},
   "outputs": [],
   "source": [
    "images = driver.find_elements(By.XPATH,'//img[@class=\"rg_i Q4LuWd\"]')"
   ]
  },
  {
   "cell_type": "code",
   "execution_count": 75,
   "id": "008e374f",
   "metadata": {},
   "outputs": [],
   "source": [
    "img_urls = []\n",
    "for image in images:\n",
    "    source= image.get_attribute('src')\n",
    "    if source is not None:\n",
    "        if(source[0:4] == 'http'):\n",
    "            img_urls.append(source)"
   ]
  },
  {
   "cell_type": "code",
   "execution_count": 76,
   "id": "fb9db771",
   "metadata": {},
   "outputs": [
    {
     "name": "stdout",
     "output_type": "stream",
     "text": [
      "Downloading 0 of 10 images\n",
      "Downloading 1 of 10 images\n",
      "Downloading 2 of 10 images\n",
      "Downloading 3 of 10 images\n",
      "Downloading 4 of 10 images\n",
      "Downloading 5 of 10 images\n",
      "Downloading 6 of 10 images\n",
      "Downloading 7 of 10 images\n",
      "Downloading 8 of 10 images\n",
      "Downloading 9 of 10 images\n"
     ]
    }
   ],
   "source": [
    "for i in range(len(img_urls)):\n",
    "    if i >= 10:  \n",
    "         break\n",
    "    print(\"Downloading {0} of {1} images\" .format(i, 10))\n",
    "    response= requests.get(img_urls[i])\n",
    "    file = open(r\"C:\\Users\\sattu\\Desktop\\Fliprobo\"+str(i)+\".jpg\", \"wb\")\n",
    "    file.write(response.content)"
   ]
  },
  {
   "cell_type": "markdown",
   "id": "52808a95",
   "metadata": {},
   "source": [
    "# Cakes"
   ]
  },
  {
   "cell_type": "code",
   "execution_count": 77,
   "id": "adccd1f5",
   "metadata": {},
   "outputs": [],
   "source": [
    "driver = webdriver.Chrome()"
   ]
  },
  {
   "cell_type": "code",
   "execution_count": 78,
   "id": "42c02ff8",
   "metadata": {},
   "outputs": [],
   "source": [
    "driver.get('https://images.google.com/')"
   ]
  },
  {
   "cell_type": "code",
   "execution_count": 79,
   "id": "67a3f01d",
   "metadata": {},
   "outputs": [],
   "source": [
    "designation=driver.find_element(By.CLASS_NAME,\"gLFyf\")\n",
    "designation.send_keys(\"Cakes\")"
   ]
  },
  {
   "cell_type": "code",
   "execution_count": 89,
   "id": "d3937c14",
   "metadata": {},
   "outputs": [
    {
     "name": "stdout",
     "output_type": "stream",
     "text": [
      "start scrolling to generate more images on the page...\n"
     ]
    }
   ],
   "source": [
    "print(\"start scrolling to generate more images on the page...\")\n",
    "for _ in range(20):\n",
    "    driver.execute_script(\"window.scrollBy(0,100)\")"
   ]
  },
  {
   "cell_type": "code",
   "execution_count": 90,
   "id": "30a47032",
   "metadata": {},
   "outputs": [],
   "source": [
    "images = driver.find_elements(By.XPATH,'//img[@class=\"rg_i Q4LuWd\"]')"
   ]
  },
  {
   "cell_type": "code",
   "execution_count": 91,
   "id": "5d728a44",
   "metadata": {},
   "outputs": [],
   "source": [
    "img_urls = []\n",
    "for image in images:\n",
    "    source= image.get_attribute('src')\n",
    "    if source is not None:\n",
    "        if(source[0:4] == 'http'):\n",
    "            img_urls.append(source)"
   ]
  },
  {
   "cell_type": "code",
   "execution_count": 92,
   "id": "f04d2664",
   "metadata": {},
   "outputs": [
    {
     "name": "stdout",
     "output_type": "stream",
     "text": [
      "Downloading 0 of 10 images\n",
      "Downloading 1 of 10 images\n",
      "Downloading 2 of 10 images\n",
      "Downloading 3 of 10 images\n",
      "Downloading 4 of 10 images\n",
      "Downloading 5 of 10 images\n",
      "Downloading 6 of 10 images\n",
      "Downloading 7 of 10 images\n",
      "Downloading 8 of 10 images\n",
      "Downloading 9 of 10 images\n"
     ]
    }
   ],
   "source": [
    "for i in range(len(img_urls)):\n",
    "    if i >= 10:  \n",
    "         break\n",
    "    print(\"Downloading {0} of {1} images\" .format(i, 10))\n",
    "    response= requests.get(img_urls[i])\n",
    "    file = open(r\"C:\\Users\\sattu\\Desktop\\Fliprobo\"+str(i)+\".jpg\", \"wb\")\n",
    "    file.write(response.content)"
   ]
  },
  {
   "cell_type": "code",
   "execution_count": null,
   "id": "ced9cd39",
   "metadata": {},
   "outputs": [],
   "source": []
  }
 ],
 "metadata": {
  "kernelspec": {
   "display_name": "Python 3 (ipykernel)",
   "language": "python",
   "name": "python3"
  },
  "language_info": {
   "codemirror_mode": {
    "name": "ipython",
    "version": 3
   },
   "file_extension": ".py",
   "mimetype": "text/x-python",
   "name": "python",
   "nbconvert_exporter": "python",
   "pygments_lexer": "ipython3",
   "version": "3.9.13"
  }
 },
 "nbformat": 4,
 "nbformat_minor": 5
}
